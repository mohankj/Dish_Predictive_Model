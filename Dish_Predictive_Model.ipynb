{
 "cells": [
  {
   "cell_type": "markdown",
   "id": "975b713b",
   "metadata": {},
   "source": [
    "## Dish Predictive Model\n",
    "###### We will be going to build a Food recommendation system based on given datasets.\n",
    "The link for datasets is given below :\n",
    "https://docs.google.com/spreadsheets/d/1TEKkPm_i_SFEsp3b3l45PQz4xMkTAbE0RmXRA00Kzyo/edit?usp=sharing"
   ]
  },
  {
   "cell_type": "markdown",
   "id": "5104a6f7",
   "metadata": {},
   "source": [
    "##### There are various things in a Life Cycle of Data Science :\n",
    "1. Data Analysis\n",
    "2. Data Visualization\n",
    "3. Feature Engineering\n",
    "4. Feature Scaling\n",
    "5. Model Selection\n",
    "6. Model Deployment"
   ]
  },
  {
   "cell_type": "markdown",
   "id": "82486624",
   "metadata": {},
   "source": [
    "# Data Analysis"
   ]
  },
  {
   "cell_type": "markdown",
   "id": "9edc3197",
   "metadata": {},
   "source": [
    "Let's import important libraries"
   ]
  },
  {
   "cell_type": "code",
   "execution_count": 1,
   "id": "b5fe247b",
   "metadata": {},
   "outputs": [],
   "source": [
    "import pandas as pd\n",
    "import numpy as np\n",
    "import matplotlib.pyplot as plt\n",
    "%matplotlib inline\n",
    "import seaborn as sns\n",
    "pd.pandas.set_option('display.max_columns',None)\n",
    "sns.set_style('whitegrid')\n",
    "import scipy.stats as ss"
   ]
  },
  {
   "cell_type": "code",
   "execution_count": 2,
   "id": "5731479c",
   "metadata": {},
   "outputs": [],
   "source": [
    "## Now read the data\n",
    "data = pd.read_csv('Food Recomediation system.csv')"
   ]
  },
  {
   "cell_type": "code",
   "execution_count": 3,
   "id": "665e17ea",
   "metadata": {
    "scrolled": true
   },
   "outputs": [
    {
     "data": {
      "text/html": [
       "<div>\n",
       "<style scoped>\n",
       "    .dataframe tbody tr th:only-of-type {\n",
       "        vertical-align: middle;\n",
       "    }\n",
       "\n",
       "    .dataframe tbody tr th {\n",
       "        vertical-align: top;\n",
       "    }\n",
       "\n",
       "    .dataframe thead th {\n",
       "        text-align: right;\n",
       "    }\n",
       "</style>\n",
       "<table border=\"1\" class=\"dataframe\">\n",
       "  <thead>\n",
       "    <tr style=\"text-align: right;\">\n",
       "      <th></th>\n",
       "      <th>Name</th>\n",
       "      <th>Gender</th>\n",
       "      <th>Age</th>\n",
       "      <th>State of Residence</th>\n",
       "      <th>Do you eat Eggs/ Non-Veg?</th>\n",
       "      <th>What's your favourite beverage?</th>\n",
       "      <th>What would you prefer?</th>\n",
       "      <th>What would you prefer?.1</th>\n",
       "      <th>What would you prefer?.2</th>\n",
       "      <th>What would you prefer?.3</th>\n",
       "      <th>Unnamed: 10</th>\n",
       "      <th>Unnamed: 11</th>\n",
       "      <th>Unnamed: 12</th>\n",
       "      <th>Unnamed: 13</th>\n",
       "      <th>Unnamed: 14</th>\n",
       "    </tr>\n",
       "  </thead>\n",
       "  <tbody>\n",
       "    <tr>\n",
       "      <th>0</th>\n",
       "      <td>Aaron Page</td>\n",
       "      <td>Male</td>\n",
       "      <td>19</td>\n",
       "      <td>Iowa</td>\n",
       "      <td>True</td>\n",
       "      <td>Tea</td>\n",
       "      <td>Shakes</td>\n",
       "      <td>Waffles</td>\n",
       "      <td>Wraps</td>\n",
       "      <td>Falooda</td>\n",
       "      <td>NaN</td>\n",
       "      <td>NaN</td>\n",
       "      <td>NaN</td>\n",
       "      <td>NaN</td>\n",
       "      <td>NaN</td>\n",
       "    </tr>\n",
       "    <tr>\n",
       "      <th>1</th>\n",
       "      <td>Adam Hernandez</td>\n",
       "      <td>Male</td>\n",
       "      <td>23</td>\n",
       "      <td>Ohio</td>\n",
       "      <td>True</td>\n",
       "      <td>None</td>\n",
       "      <td>None</td>\n",
       "      <td>None</td>\n",
       "      <td>Sandwiches</td>\n",
       "      <td>Rabdi</td>\n",
       "      <td>NaN</td>\n",
       "      <td>NaN</td>\n",
       "      <td>NaN</td>\n",
       "      <td>NaN</td>\n",
       "      <td>NaN</td>\n",
       "    </tr>\n",
       "    <tr>\n",
       "      <th>2</th>\n",
       "      <td>Adam Young</td>\n",
       "      <td>Male</td>\n",
       "      <td>21</td>\n",
       "      <td>California</td>\n",
       "      <td>True</td>\n",
       "      <td>Tea</td>\n",
       "      <td>Shakes</td>\n",
       "      <td>Pan Cakes</td>\n",
       "      <td>Sandwiches</td>\n",
       "      <td>Falooda</td>\n",
       "      <td>NaN</td>\n",
       "      <td>NaN</td>\n",
       "      <td>NaN</td>\n",
       "      <td>NaN</td>\n",
       "      <td>NaN</td>\n",
       "    </tr>\n",
       "    <tr>\n",
       "      <th>3</th>\n",
       "      <td>Aimee Castaneda</td>\n",
       "      <td>Male</td>\n",
       "      <td>22</td>\n",
       "      <td>Michigan</td>\n",
       "      <td>False</td>\n",
       "      <td>Tea</td>\n",
       "      <td>Hot Chocolate</td>\n",
       "      <td>Pan Cakes</td>\n",
       "      <td>Sandwiches</td>\n",
       "      <td>Rabdi</td>\n",
       "      <td>NaN</td>\n",
       "      <td>NaN</td>\n",
       "      <td>NaN</td>\n",
       "      <td>NaN</td>\n",
       "      <td>NaN</td>\n",
       "    </tr>\n",
       "    <tr>\n",
       "      <th>4</th>\n",
       "      <td>Alejandra Hernandez</td>\n",
       "      <td>Female</td>\n",
       "      <td>20</td>\n",
       "      <td>Washington</td>\n",
       "      <td>True</td>\n",
       "      <td>Tea</td>\n",
       "      <td>Hot Chocolate</td>\n",
       "      <td>None</td>\n",
       "      <td>Sandwiches</td>\n",
       "      <td>Rabdi</td>\n",
       "      <td>NaN</td>\n",
       "      <td>NaN</td>\n",
       "      <td>NaN</td>\n",
       "      <td>NaN</td>\n",
       "      <td>NaN</td>\n",
       "    </tr>\n",
       "  </tbody>\n",
       "</table>\n",
       "</div>"
      ],
      "text/plain": [
       "                  Name  Gender  Age State of Residence  \\\n",
       "0           Aaron Page    Male   19               Iowa   \n",
       "1       Adam Hernandez    Male   23               Ohio   \n",
       "2           Adam Young    Male   21        California    \n",
       "3      Aimee Castaneda    Male   22           Michigan   \n",
       "4  Alejandra Hernandez  Female   20         Washington   \n",
       "\n",
       "   Do you eat Eggs/ Non-Veg? What's your favourite beverage?  \\\n",
       "0                       True                             Tea   \n",
       "1                       True                            None   \n",
       "2                       True                             Tea   \n",
       "3                      False                             Tea   \n",
       "4                       True                             Tea   \n",
       "\n",
       "  What would you prefer? What would you prefer?.1 What would you prefer?.2  \\\n",
       "0                 Shakes                  Waffles                    Wraps   \n",
       "1                   None                     None               Sandwiches   \n",
       "2                 Shakes                Pan Cakes               Sandwiches   \n",
       "3          Hot Chocolate                Pan Cakes               Sandwiches   \n",
       "4          Hot Chocolate                     None               Sandwiches   \n",
       "\n",
       "  What would you prefer?.3  Unnamed: 10  Unnamed: 11  Unnamed: 12  \\\n",
       "0                  Falooda          NaN          NaN          NaN   \n",
       "1                    Rabdi          NaN          NaN          NaN   \n",
       "2                  Falooda          NaN          NaN          NaN   \n",
       "3                    Rabdi          NaN          NaN          NaN   \n",
       "4                    Rabdi          NaN          NaN          NaN   \n",
       "\n",
       "   Unnamed: 13 Unnamed: 14  \n",
       "0          NaN         NaN  \n",
       "1          NaN         NaN  \n",
       "2          NaN         NaN  \n",
       "3          NaN         NaN  \n",
       "4          NaN         NaN  "
      ]
     },
     "execution_count": 3,
     "metadata": {},
     "output_type": "execute_result"
    }
   ],
   "source": [
    "## Let's view head of datasets\n",
    "data.head()"
   ]
  },
  {
   "cell_type": "code",
   "execution_count": 4,
   "id": "3e2d1eea",
   "metadata": {},
   "outputs": [
    {
     "data": {
      "text/plain": [
       "(300, 15)"
      ]
     },
     "execution_count": 4,
     "metadata": {},
     "output_type": "execute_result"
    }
   ],
   "source": [
    "## Let's view shape of datasets\n",
    "data.shape"
   ]
  },
  {
   "cell_type": "code",
   "execution_count": 5,
   "id": "88f88145",
   "metadata": {},
   "outputs": [
    {
     "name": "stdout",
     "output_type": "stream",
     "text": [
      "<class 'pandas.core.frame.DataFrame'>\n",
      "RangeIndex: 300 entries, 0 to 299\n",
      "Data columns (total 15 columns):\n",
      " #   Column                           Non-Null Count  Dtype  \n",
      "---  ------                           --------------  -----  \n",
      " 0   Name                             300 non-null    object \n",
      " 1   Gender                           300 non-null    object \n",
      " 2   Age                              300 non-null    int64  \n",
      " 3   State of Residence               300 non-null    object \n",
      " 4   Do you eat Eggs/ Non-Veg?        300 non-null    bool   \n",
      " 5   What's your favourite beverage?  300 non-null    object \n",
      " 6   What would you prefer?           300 non-null    object \n",
      " 7   What would you prefer?.1         300 non-null    object \n",
      " 8   What would you prefer?.2         300 non-null    object \n",
      " 9   What would you prefer?.3         300 non-null    object \n",
      " 10  Unnamed: 10                      0 non-null      float64\n",
      " 11  Unnamed: 11                      0 non-null      float64\n",
      " 12  Unnamed: 12                      0 non-null      float64\n",
      " 13  Unnamed: 13                      0 non-null      float64\n",
      " 14  Unnamed: 14                      1 non-null      object \n",
      "dtypes: bool(1), float64(4), int64(1), object(9)\n",
      "memory usage: 33.2+ KB\n"
     ]
    }
   ],
   "source": [
    "## Let's dig some information about datasets\n",
    "data.info()"
   ]
  },
  {
   "cell_type": "markdown",
   "id": "24d032fc",
   "metadata": {},
   "source": [
    "###### We conclude that 4 columns are unneccesary which may appears due to converting into csv file."
   ]
  },
  {
   "cell_type": "code",
   "execution_count": 6,
   "id": "2a5abccb",
   "metadata": {},
   "outputs": [],
   "source": [
    "## We have to drop unncessary column which appears when we convert this data into a csv file\n",
    "data.drop(['Unnamed: 10','Unnamed: 11','Unnamed: 12','Unnamed: 13','Unnamed: 14'],inplace=True,axis=1)"
   ]
  },
  {
   "cell_type": "code",
   "execution_count": 7,
   "id": "7e107336",
   "metadata": {},
   "outputs": [
    {
     "data": {
      "text/html": [
       "<div>\n",
       "<style scoped>\n",
       "    .dataframe tbody tr th:only-of-type {\n",
       "        vertical-align: middle;\n",
       "    }\n",
       "\n",
       "    .dataframe tbody tr th {\n",
       "        vertical-align: top;\n",
       "    }\n",
       "\n",
       "    .dataframe thead th {\n",
       "        text-align: right;\n",
       "    }\n",
       "</style>\n",
       "<table border=\"1\" class=\"dataframe\">\n",
       "  <thead>\n",
       "    <tr style=\"text-align: right;\">\n",
       "      <th></th>\n",
       "      <th>Name</th>\n",
       "      <th>Gender</th>\n",
       "      <th>Age</th>\n",
       "      <th>State of Residence</th>\n",
       "      <th>Do you eat Eggs/ Non-Veg?</th>\n",
       "      <th>What's your favourite beverage?</th>\n",
       "      <th>What would you prefer?</th>\n",
       "      <th>What would you prefer?.1</th>\n",
       "      <th>What would you prefer?.2</th>\n",
       "      <th>What would you prefer?.3</th>\n",
       "    </tr>\n",
       "  </thead>\n",
       "  <tbody>\n",
       "    <tr>\n",
       "      <th>0</th>\n",
       "      <td>Aaron Page</td>\n",
       "      <td>Male</td>\n",
       "      <td>19</td>\n",
       "      <td>Iowa</td>\n",
       "      <td>True</td>\n",
       "      <td>Tea</td>\n",
       "      <td>Shakes</td>\n",
       "      <td>Waffles</td>\n",
       "      <td>Wraps</td>\n",
       "      <td>Falooda</td>\n",
       "    </tr>\n",
       "    <tr>\n",
       "      <th>1</th>\n",
       "      <td>Adam Hernandez</td>\n",
       "      <td>Male</td>\n",
       "      <td>23</td>\n",
       "      <td>Ohio</td>\n",
       "      <td>True</td>\n",
       "      <td>None</td>\n",
       "      <td>None</td>\n",
       "      <td>None</td>\n",
       "      <td>Sandwiches</td>\n",
       "      <td>Rabdi</td>\n",
       "    </tr>\n",
       "    <tr>\n",
       "      <th>2</th>\n",
       "      <td>Adam Young</td>\n",
       "      <td>Male</td>\n",
       "      <td>21</td>\n",
       "      <td>California</td>\n",
       "      <td>True</td>\n",
       "      <td>Tea</td>\n",
       "      <td>Shakes</td>\n",
       "      <td>Pan Cakes</td>\n",
       "      <td>Sandwiches</td>\n",
       "      <td>Falooda</td>\n",
       "    </tr>\n",
       "    <tr>\n",
       "      <th>3</th>\n",
       "      <td>Aimee Castaneda</td>\n",
       "      <td>Male</td>\n",
       "      <td>22</td>\n",
       "      <td>Michigan</td>\n",
       "      <td>False</td>\n",
       "      <td>Tea</td>\n",
       "      <td>Hot Chocolate</td>\n",
       "      <td>Pan Cakes</td>\n",
       "      <td>Sandwiches</td>\n",
       "      <td>Rabdi</td>\n",
       "    </tr>\n",
       "    <tr>\n",
       "      <th>4</th>\n",
       "      <td>Alejandra Hernandez</td>\n",
       "      <td>Female</td>\n",
       "      <td>20</td>\n",
       "      <td>Washington</td>\n",
       "      <td>True</td>\n",
       "      <td>Tea</td>\n",
       "      <td>Hot Chocolate</td>\n",
       "      <td>None</td>\n",
       "      <td>Sandwiches</td>\n",
       "      <td>Rabdi</td>\n",
       "    </tr>\n",
       "  </tbody>\n",
       "</table>\n",
       "</div>"
      ],
      "text/plain": [
       "                  Name  Gender  Age State of Residence  \\\n",
       "0           Aaron Page    Male   19               Iowa   \n",
       "1       Adam Hernandez    Male   23               Ohio   \n",
       "2           Adam Young    Male   21        California    \n",
       "3      Aimee Castaneda    Male   22           Michigan   \n",
       "4  Alejandra Hernandez  Female   20         Washington   \n",
       "\n",
       "   Do you eat Eggs/ Non-Veg? What's your favourite beverage?  \\\n",
       "0                       True                             Tea   \n",
       "1                       True                            None   \n",
       "2                       True                             Tea   \n",
       "3                      False                             Tea   \n",
       "4                       True                             Tea   \n",
       "\n",
       "  What would you prefer? What would you prefer?.1 What would you prefer?.2  \\\n",
       "0                 Shakes                  Waffles                    Wraps   \n",
       "1                   None                     None               Sandwiches   \n",
       "2                 Shakes                Pan Cakes               Sandwiches   \n",
       "3          Hot Chocolate                Pan Cakes               Sandwiches   \n",
       "4          Hot Chocolate                     None               Sandwiches   \n",
       "\n",
       "  What would you prefer?.3  \n",
       "0                  Falooda  \n",
       "1                    Rabdi  \n",
       "2                  Falooda  \n",
       "3                    Rabdi  \n",
       "4                    Rabdi  "
      ]
     },
     "execution_count": 7,
     "metadata": {},
     "output_type": "execute_result"
    }
   ],
   "source": [
    "## Let's see some data values.\n",
    "data.head()"
   ]
  },
  {
   "cell_type": "markdown",
   "id": "18b60587",
   "metadata": {},
   "source": [
    "###### Now, We will be converting the Gender column into float dtypes by using bits values."
   ]
  },
  {
   "cell_type": "code",
   "execution_count": 8,
   "id": "6ffd96b7",
   "metadata": {},
   "outputs": [],
   "source": [
    "data['Gender'] = np.where(data['Gender']=='Male',1,0)"
   ]
  },
  {
   "cell_type": "markdown",
   "id": "babad091",
   "metadata": {},
   "source": [
    "Here, 1 indicates Male and 0 indicates Female."
   ]
  },
  {
   "cell_type": "markdown",
   "id": "be194236",
   "metadata": {},
   "source": [
    "# Data Visualization"
   ]
  },
  {
   "cell_type": "code",
   "execution_count": 9,
   "id": "90b38766",
   "metadata": {},
   "outputs": [],
   "source": [
    "## Let's take all target values which we have to predict in a list\n",
    "target = ['''What's your favourite beverage?''','What would you prefer?','What would you prefer?.1','What would you prefer?.2','What would you prefer?.3']"
   ]
  },
  {
   "cell_type": "code",
   "execution_count": 10,
   "id": "3bbe3caa",
   "metadata": {},
   "outputs": [
    {
     "data": {
      "image/png": "[encoded data removed]",
      "text/plain": [
       "<Figure size 432x288 with 1 Axes>"
      ]
     },
     "metadata": {},
     "output_type": "display_data"
    },
    {
     "data": {
      "image/png": "[encoded data removed]",
      "text/plain": [
       "<Figure size 432x288 with 1 Axes>"
      ]
     },
     "metadata": {},
     "output_type": "display_data"
    },
    {
     "data": {
      "image/png": "[encoded data removed]",
      "text/plain": [
       "<Figure size 432x288 with 1 Axes>"
      ]
     },
     "metadata": {},
     "output_type": "display_data"
    },
    {
     "data": {
      "image/png": "[encoded data removed]",
      "text/plain": [
       "<Figure size 432x288 with 1 Axes>"
      ]
     },
     "metadata": {},
     "output_type": "display_data"
    },
    {
     "data": {
      "image/png": "[encoded data removed]",
      "text/plain": [
       "<Figure size 432x288 with 1 Axes>"
      ]
     },
     "metadata": {},
     "output_type": "display_data"
    }
   ],
   "source": [
    "## Let's plot some graph and try to understand its outcome\n",
    "for x in target :\n",
    "    dataset = data.copy()\n",
    "    dataset.groupby(x)['Age'].median().plot.bar()\n",
    "    plt.xlabel(x)\n",
    "    plt.ylabel('Age')\n",
    "    plt.show()"
   ]
  },
  {
   "cell_type": "markdown",
   "id": "1fbd394d",
   "metadata": {},
   "source": [
    "From this graph we conclude that the person having age greater than 20 are confused between the given options."
   ]
  },
  {
   "cell_type": "markdown",
   "id": "91c5cb18",
   "metadata": {},
   "source": [
    "Let's count how many feature they have in every taregt values."
   ]
  },
  {
   "cell_type": "code",
   "execution_count": 11,
   "id": "db2f3457",
   "metadata": {},
   "outputs": [
    {
     "data": {
      "text/plain": [
       "Tea       154\n",
       "Coffee    117\n",
       "None       29\n",
       "Name: What's your favourite beverage?, dtype: int64"
      ]
     },
     "execution_count": 11,
     "metadata": {},
     "output_type": "execute_result"
    }
   ],
   "source": [
    "data[\"What's your favourite beverage?\"].value_counts()"
   ]
  },
  {
   "cell_type": "markdown",
   "id": "2702b1d3",
   "metadata": {},
   "source": [
    "We Conclude that many peoples prefer Tea over Coffee."
   ]
  },
  {
   "cell_type": "code",
   "execution_count": 12,
   "id": "bdb8bce6",
   "metadata": {},
   "outputs": [
    {
     "data": {
      "text/plain": [
       "Shakes           199\n",
       "Hot Chocolate     78\n",
       "None              23\n",
       "Name: What would you prefer?, dtype: int64"
      ]
     },
     "execution_count": 12,
     "metadata": {},
     "output_type": "execute_result"
    }
   ],
   "source": [
    "data['What would you prefer?'].value_counts()"
   ]
  },
  {
   "cell_type": "markdown",
   "id": "89cbbc30",
   "metadata": {},
   "source": [
    "We conclude that many peoples prefer Shakes over Hot Chocolate."
   ]
  },
  {
   "cell_type": "code",
   "execution_count": 13,
   "id": "58fa487b",
   "metadata": {},
   "outputs": [
    {
     "data": {
      "text/plain": [
       "Waffles      143\n",
       "Pan Cakes     84\n",
       "None          73\n",
       "Name: What would you prefer?.1, dtype: int64"
      ]
     },
     "execution_count": 13,
     "metadata": {},
     "output_type": "execute_result"
    }
   ],
   "source": [
    "data['What would you prefer?.1'].value_counts()"
   ]
  },
  {
   "cell_type": "markdown",
   "id": "77e88982",
   "metadata": {},
   "source": [
    "We conclude that many peoples prefer Waffles over Pan Cakes."
   ]
  },
  {
   "cell_type": "code",
   "execution_count": 14,
   "id": "6b2f08bb",
   "metadata": {},
   "outputs": [
    {
     "data": {
      "text/plain": [
       "Sandwiches    189\n",
       "Wraps         100\n",
       "None           11\n",
       "Name: What would you prefer?.2, dtype: int64"
      ]
     },
     "execution_count": 14,
     "metadata": {},
     "output_type": "execute_result"
    }
   ],
   "source": [
    "data['What would you prefer?.2'].value_counts()"
   ]
  },
  {
   "cell_type": "markdown",
   "id": "1dd43c08",
   "metadata": {},
   "source": [
    "We Conclude that many peoples prefer Sandwiches over Wraps."
   ]
  },
  {
   "cell_type": "code",
   "execution_count": 15,
   "id": "69562b40",
   "metadata": {},
   "outputs": [
    {
     "data": {
      "text/plain": [
       "Rabdi      186\n",
       "Falooda     71\n",
       "None        43\n",
       "Name: What would you prefer?.3, dtype: int64"
      ]
     },
     "execution_count": 15,
     "metadata": {},
     "output_type": "execute_result"
    }
   ],
   "source": [
    "data['What would you prefer?.3'].value_counts()"
   ]
  },
  {
   "cell_type": "markdown",
   "id": "ca59fb3e",
   "metadata": {},
   "source": [
    "We Conclude that many peoples prefer Rabdi over Falooda."
   ]
  },
  {
   "cell_type": "markdown",
   "id": "d58696f8",
   "metadata": {},
   "source": [
    "# Feature Engineering"
   ]
  },
  {
   "cell_type": "markdown",
   "id": "bcdcb177",
   "metadata": {},
   "source": [
    "##### We conclude from graph for every target values there is None values also so we have to consider this None value also during recommendations. So, I think that we should recommend those features which are prefered by more people to those people who choses None as their preference. For this We can increase our food supply."
   ]
  },
  {
   "cell_type": "markdown",
   "id": "e1943eea",
   "metadata": {},
   "source": []
  },
  {
   "cell_type": "code",
   "execution_count": 16,
   "id": "c8b7e747",
   "metadata": {},
   "outputs": [],
   "source": [
    "## Let's convert \"Do you eat Eggs/ Non-Veg?\" columns values into bits values.\n",
    "data['Do you eat Eggs/ Non-Veg?'] = np.where(data['Do you eat Eggs/ Non-Veg?'],1,0)"
   ]
  },
  {
   "cell_type": "code",
   "execution_count": 17,
   "id": "74821c16",
   "metadata": {},
   "outputs": [],
   "source": [
    "## ## Let's convert \"What's your favourite beverage?\" columns values into bits values.\n",
    "data[\"What's your favourite beverage?\"] = np.where(data[\"What's your favourite beverage?\"]=='Coffee',1,0)"
   ]
  },
  {
   "cell_type": "code",
   "execution_count": 18,
   "id": "e545e90d",
   "metadata": {},
   "outputs": [],
   "source": [
    "## Let's convert \"What would you prefer?\" columns values into bits values.\n",
    "data['What would you prefer?'] = np.where(data['What would you prefer?']=='Hot Chocolate',1,0)"
   ]
  },
  {
   "cell_type": "code",
   "execution_count": 19,
   "id": "58b7fd44",
   "metadata": {},
   "outputs": [],
   "source": [
    "##  Let's convert \"What would you prefer?.1\" columns values into bits values.\n",
    "data['What would you prefer?.1'] = np.where(data['What would you prefer?.1']=='Pan Cakes',1,0)\n"
   ]
  },
  {
   "cell_type": "code",
   "execution_count": 20,
   "id": "7d5e7ebc",
   "metadata": {},
   "outputs": [],
   "source": [
    "##  Let's convert \"What would you prefer?.2\" columns values into bits values.\n",
    "data['What would you prefer?.2'] = np.where(data['What would you prefer?.2']=='Wraps',1,0)\n"
   ]
  },
  {
   "cell_type": "code",
   "execution_count": 21,
   "id": "abbaca04",
   "metadata": {},
   "outputs": [],
   "source": [
    "##  Let's convert \"What would you prefer?.3\" columns values into bits values.\n",
    "data['What would you prefer?.3'] = np.where(data['What would you prefer?.3']=='Falooda',1,0)"
   ]
  },
  {
   "cell_type": "code",
   "execution_count": 22,
   "id": "dc455a6f",
   "metadata": {},
   "outputs": [
    {
     "data": {
      "text/html": [
       "<div>\n",
       "<style scoped>\n",
       "    .dataframe tbody tr th:only-of-type {\n",
       "        vertical-align: middle;\n",
       "    }\n",
       "\n",
       "    .dataframe tbody tr th {\n",
       "        vertical-align: top;\n",
       "    }\n",
       "\n",
       "    .dataframe thead th {\n",
       "        text-align: right;\n",
       "    }\n",
       "</style>\n",
       "<table border=\"1\" class=\"dataframe\">\n",
       "  <thead>\n",
       "    <tr style=\"text-align: right;\">\n",
       "      <th></th>\n",
       "      <th>Name</th>\n",
       "      <th>Gender</th>\n",
       "      <th>Age</th>\n",
       "      <th>State of Residence</th>\n",
       "      <th>Do you eat Eggs/ Non-Veg?</th>\n",
       "      <th>What's your favourite beverage?</th>\n",
       "      <th>What would you prefer?</th>\n",
       "      <th>What would you prefer?.1</th>\n",
       "      <th>What would you prefer?.2</th>\n",
       "      <th>What would you prefer?.3</th>\n",
       "    </tr>\n",
       "  </thead>\n",
       "  <tbody>\n",
       "    <tr>\n",
       "      <th>0</th>\n",
       "      <td>Aaron Page</td>\n",
       "      <td>1</td>\n",
       "      <td>19</td>\n",
       "      <td>Iowa</td>\n",
       "      <td>1</td>\n",
       "      <td>0</td>\n",
       "      <td>0</td>\n",
       "      <td>0</td>\n",
       "      <td>1</td>\n",
       "      <td>1</td>\n",
       "    </tr>\n",
       "    <tr>\n",
       "      <th>1</th>\n",
       "      <td>Adam Hernandez</td>\n",
       "      <td>1</td>\n",
       "      <td>23</td>\n",
       "      <td>Ohio</td>\n",
       "      <td>1</td>\n",
       "      <td>0</td>\n",
       "      <td>0</td>\n",
       "      <td>0</td>\n",
       "      <td>0</td>\n",
       "      <td>0</td>\n",
       "    </tr>\n",
       "    <tr>\n",
       "      <th>2</th>\n",
       "      <td>Adam Young</td>\n",
       "      <td>1</td>\n",
       "      <td>21</td>\n",
       "      <td>California</td>\n",
       "      <td>1</td>\n",
       "      <td>0</td>\n",
       "      <td>0</td>\n",
       "      <td>1</td>\n",
       "      <td>0</td>\n",
       "      <td>1</td>\n",
       "    </tr>\n",
       "    <tr>\n",
       "      <th>3</th>\n",
       "      <td>Aimee Castaneda</td>\n",
       "      <td>1</td>\n",
       "      <td>22</td>\n",
       "      <td>Michigan</td>\n",
       "      <td>0</td>\n",
       "      <td>0</td>\n",
       "      <td>1</td>\n",
       "      <td>1</td>\n",
       "      <td>0</td>\n",
       "      <td>0</td>\n",
       "    </tr>\n",
       "    <tr>\n",
       "      <th>4</th>\n",
       "      <td>Alejandra Hernandez</td>\n",
       "      <td>0</td>\n",
       "      <td>20</td>\n",
       "      <td>Washington</td>\n",
       "      <td>1</td>\n",
       "      <td>0</td>\n",
       "      <td>1</td>\n",
       "      <td>0</td>\n",
       "      <td>0</td>\n",
       "      <td>0</td>\n",
       "    </tr>\n",
       "  </tbody>\n",
       "</table>\n",
       "</div>"
      ],
      "text/plain": [
       "                  Name  Gender  Age State of Residence  \\\n",
       "0           Aaron Page       1   19               Iowa   \n",
       "1       Adam Hernandez       1   23               Ohio   \n",
       "2           Adam Young       1   21        California    \n",
       "3      Aimee Castaneda       1   22           Michigan   \n",
       "4  Alejandra Hernandez       0   20         Washington   \n",
       "\n",
       "   Do you eat Eggs/ Non-Veg?  What's your favourite beverage?  \\\n",
       "0                          1                                0   \n",
       "1                          1                                0   \n",
       "2                          1                                0   \n",
       "3                          0                                0   \n",
       "4                          1                                0   \n",
       "\n",
       "   What would you prefer?  What would you prefer?.1  What would you prefer?.2  \\\n",
       "0                       0                         0                         1   \n",
       "1                       0                         0                         0   \n",
       "2                       0                         1                         0   \n",
       "3                       1                         1                         0   \n",
       "4                       1                         0                         0   \n",
       "\n",
       "   What would you prefer?.3  \n",
       "0                         1  \n",
       "1                         0  \n",
       "2                         1  \n",
       "3                         0  \n",
       "4                         0  "
      ]
     },
     "execution_count": 22,
     "metadata": {},
     "output_type": "execute_result"
    }
   ],
   "source": [
    "## Let's see head of data\n",
    "data.head()"
   ]
  },
  {
   "cell_type": "markdown",
   "id": "4401547a",
   "metadata": {},
   "source": [
    "###### Now, We have to deal with State Columns. Let's view how many states do we have in our data."
   ]
  },
  {
   "cell_type": "code",
   "execution_count": 23,
   "id": "f5c3d815",
   "metadata": {},
   "outputs": [
    {
     "data": {
      "text/plain": [
       "California     74\n",
       "Michigan       61\n",
       "Iowa           58\n",
       "Texas          43\n",
       "Ohio           34\n",
       "Washington     30\n",
       "Name: State of Residence, dtype: int64"
      ]
     },
     "execution_count": 23,
     "metadata": {},
     "output_type": "execute_result"
    }
   ],
   "source": [
    "## Let's dig into state data\n",
    "data['State of Residence'].value_counts()"
   ]
  },
  {
   "cell_type": "markdown",
   "id": "ed95b4e8",
   "metadata": {},
   "source": [
    "###### We have see that there is only 6 states feature on States columns. so, we can use dummy varaiable  "
   ]
  },
  {
   "cell_type": "code",
   "execution_count": 24,
   "id": "c6188121",
   "metadata": {},
   "outputs": [],
   "source": [
    "State = pd.get_dummies(data['State of Residence'],drop_first=True) "
   ]
  },
  {
   "cell_type": "markdown",
   "id": "94927bc1",
   "metadata": {},
   "source": [
    "We dropped this Feature \"California\" using drop_first because we can present California using 5 others columns.So, there is no need of keeping it."
   ]
  },
  {
   "cell_type": "code",
   "execution_count": 25,
   "id": "2c2310e5",
   "metadata": {},
   "outputs": [
    {
     "data": {
      "text/html": [
       "<div>\n",
       "<style scoped>\n",
       "    .dataframe tbody tr th:only-of-type {\n",
       "        vertical-align: middle;\n",
       "    }\n",
       "\n",
       "    .dataframe tbody tr th {\n",
       "        vertical-align: top;\n",
       "    }\n",
       "\n",
       "    .dataframe thead th {\n",
       "        text-align: right;\n",
       "    }\n",
       "</style>\n",
       "<table border=\"1\" class=\"dataframe\">\n",
       "  <thead>\n",
       "    <tr style=\"text-align: right;\">\n",
       "      <th></th>\n",
       "      <th>Iowa</th>\n",
       "      <th>Michigan</th>\n",
       "      <th>Ohio</th>\n",
       "      <th>Texas</th>\n",
       "      <th>Washington</th>\n",
       "    </tr>\n",
       "  </thead>\n",
       "  <tbody>\n",
       "    <tr>\n",
       "      <th>0</th>\n",
       "      <td>1</td>\n",
       "      <td>0</td>\n",
       "      <td>0</td>\n",
       "      <td>0</td>\n",
       "      <td>0</td>\n",
       "    </tr>\n",
       "    <tr>\n",
       "      <th>1</th>\n",
       "      <td>0</td>\n",
       "      <td>0</td>\n",
       "      <td>1</td>\n",
       "      <td>0</td>\n",
       "      <td>0</td>\n",
       "    </tr>\n",
       "    <tr>\n",
       "      <th>2</th>\n",
       "      <td>0</td>\n",
       "      <td>0</td>\n",
       "      <td>0</td>\n",
       "      <td>0</td>\n",
       "      <td>0</td>\n",
       "    </tr>\n",
       "    <tr>\n",
       "      <th>3</th>\n",
       "      <td>0</td>\n",
       "      <td>1</td>\n",
       "      <td>0</td>\n",
       "      <td>0</td>\n",
       "      <td>0</td>\n",
       "    </tr>\n",
       "    <tr>\n",
       "      <th>4</th>\n",
       "      <td>0</td>\n",
       "      <td>0</td>\n",
       "      <td>0</td>\n",
       "      <td>0</td>\n",
       "      <td>1</td>\n",
       "    </tr>\n",
       "    <tr>\n",
       "      <th>...</th>\n",
       "      <td>...</td>\n",
       "      <td>...</td>\n",
       "      <td>...</td>\n",
       "      <td>...</td>\n",
       "      <td>...</td>\n",
       "    </tr>\n",
       "    <tr>\n",
       "      <th>295</th>\n",
       "      <td>1</td>\n",
       "      <td>0</td>\n",
       "      <td>0</td>\n",
       "      <td>0</td>\n",
       "      <td>0</td>\n",
       "    </tr>\n",
       "    <tr>\n",
       "      <th>296</th>\n",
       "      <td>0</td>\n",
       "      <td>0</td>\n",
       "      <td>0</td>\n",
       "      <td>0</td>\n",
       "      <td>0</td>\n",
       "    </tr>\n",
       "    <tr>\n",
       "      <th>297</th>\n",
       "      <td>0</td>\n",
       "      <td>1</td>\n",
       "      <td>0</td>\n",
       "      <td>0</td>\n",
       "      <td>0</td>\n",
       "    </tr>\n",
       "    <tr>\n",
       "      <th>298</th>\n",
       "      <td>0</td>\n",
       "      <td>1</td>\n",
       "      <td>0</td>\n",
       "      <td>0</td>\n",
       "      <td>0</td>\n",
       "    </tr>\n",
       "    <tr>\n",
       "      <th>299</th>\n",
       "      <td>1</td>\n",
       "      <td>0</td>\n",
       "      <td>0</td>\n",
       "      <td>0</td>\n",
       "      <td>0</td>\n",
       "    </tr>\n",
       "  </tbody>\n",
       "</table>\n",
       "<p>300 rows × 5 columns</p>\n",
       "</div>"
      ],
      "text/plain": [
       "     Iowa  Michigan  Ohio  Texas  Washington\n",
       "0       1         0     0      0           0\n",
       "1       0         0     1      0           0\n",
       "2       0         0     0      0           0\n",
       "3       0         1     0      0           0\n",
       "4       0         0     0      0           1\n",
       "..    ...       ...   ...    ...         ...\n",
       "295     1         0     0      0           0\n",
       "296     0         0     0      0           0\n",
       "297     0         1     0      0           0\n",
       "298     0         1     0      0           0\n",
       "299     1         0     0      0           0\n",
       "\n",
       "[300 rows x 5 columns]"
      ]
     },
     "execution_count": 25,
     "metadata": {},
     "output_type": "execute_result"
    }
   ],
   "source": [
    "State"
   ]
  },
  {
   "cell_type": "code",
   "execution_count": 26,
   "id": "4456a750",
   "metadata": {},
   "outputs": [],
   "source": [
    "## Now, We are merging this dataframe with our original data.\n",
    "data = pd.concat([data,State],axis=1)"
   ]
  },
  {
   "cell_type": "code",
   "execution_count": 27,
   "id": "17cd217a",
   "metadata": {},
   "outputs": [
    {
     "data": {
      "text/html": [
       "<div>\n",
       "<style scoped>\n",
       "    .dataframe tbody tr th:only-of-type {\n",
       "        vertical-align: middle;\n",
       "    }\n",
       "\n",
       "    .dataframe tbody tr th {\n",
       "        vertical-align: top;\n",
       "    }\n",
       "\n",
       "    .dataframe thead th {\n",
       "        text-align: right;\n",
       "    }\n",
       "</style>\n",
       "<table border=\"1\" class=\"dataframe\">\n",
       "  <thead>\n",
       "    <tr style=\"text-align: right;\">\n",
       "      <th></th>\n",
       "      <th>Name</th>\n",
       "      <th>Gender</th>\n",
       "      <th>Age</th>\n",
       "      <th>State of Residence</th>\n",
       "      <th>Do you eat Eggs/ Non-Veg?</th>\n",
       "      <th>What's your favourite beverage?</th>\n",
       "      <th>What would you prefer?</th>\n",
       "      <th>What would you prefer?.1</th>\n",
       "      <th>What would you prefer?.2</th>\n",
       "      <th>What would you prefer?.3</th>\n",
       "      <th>Iowa</th>\n",
       "      <th>Michigan</th>\n",
       "      <th>Ohio</th>\n",
       "      <th>Texas</th>\n",
       "      <th>Washington</th>\n",
       "    </tr>\n",
       "  </thead>\n",
       "  <tbody>\n",
       "    <tr>\n",
       "      <th>0</th>\n",
       "      <td>Aaron Page</td>\n",
       "      <td>1</td>\n",
       "      <td>19</td>\n",
       "      <td>Iowa</td>\n",
       "      <td>1</td>\n",
       "      <td>0</td>\n",
       "      <td>0</td>\n",
       "      <td>0</td>\n",
       "      <td>1</td>\n",
       "      <td>1</td>\n",
       "      <td>1</td>\n",
       "      <td>0</td>\n",
       "      <td>0</td>\n",
       "      <td>0</td>\n",
       "      <td>0</td>\n",
       "    </tr>\n",
       "    <tr>\n",
       "      <th>1</th>\n",
       "      <td>Adam Hernandez</td>\n",
       "      <td>1</td>\n",
       "      <td>23</td>\n",
       "      <td>Ohio</td>\n",
       "      <td>1</td>\n",
       "      <td>0</td>\n",
       "      <td>0</td>\n",
       "      <td>0</td>\n",
       "      <td>0</td>\n",
       "      <td>0</td>\n",
       "      <td>0</td>\n",
       "      <td>0</td>\n",
       "      <td>1</td>\n",
       "      <td>0</td>\n",
       "      <td>0</td>\n",
       "    </tr>\n",
       "    <tr>\n",
       "      <th>2</th>\n",
       "      <td>Adam Young</td>\n",
       "      <td>1</td>\n",
       "      <td>21</td>\n",
       "      <td>California</td>\n",
       "      <td>1</td>\n",
       "      <td>0</td>\n",
       "      <td>0</td>\n",
       "      <td>1</td>\n",
       "      <td>0</td>\n",
       "      <td>1</td>\n",
       "      <td>0</td>\n",
       "      <td>0</td>\n",
       "      <td>0</td>\n",
       "      <td>0</td>\n",
       "      <td>0</td>\n",
       "    </tr>\n",
       "    <tr>\n",
       "      <th>3</th>\n",
       "      <td>Aimee Castaneda</td>\n",
       "      <td>1</td>\n",
       "      <td>22</td>\n",
       "      <td>Michigan</td>\n",
       "      <td>0</td>\n",
       "      <td>0</td>\n",
       "      <td>1</td>\n",
       "      <td>1</td>\n",
       "      <td>0</td>\n",
       "      <td>0</td>\n",
       "      <td>0</td>\n",
       "      <td>1</td>\n",
       "      <td>0</td>\n",
       "      <td>0</td>\n",
       "      <td>0</td>\n",
       "    </tr>\n",
       "    <tr>\n",
       "      <th>4</th>\n",
       "      <td>Alejandra Hernandez</td>\n",
       "      <td>0</td>\n",
       "      <td>20</td>\n",
       "      <td>Washington</td>\n",
       "      <td>1</td>\n",
       "      <td>0</td>\n",
       "      <td>1</td>\n",
       "      <td>0</td>\n",
       "      <td>0</td>\n",
       "      <td>0</td>\n",
       "      <td>0</td>\n",
       "      <td>0</td>\n",
       "      <td>0</td>\n",
       "      <td>0</td>\n",
       "      <td>1</td>\n",
       "    </tr>\n",
       "  </tbody>\n",
       "</table>\n",
       "</div>"
      ],
      "text/plain": [
       "                  Name  Gender  Age State of Residence  \\\n",
       "0           Aaron Page       1   19               Iowa   \n",
       "1       Adam Hernandez       1   23               Ohio   \n",
       "2           Adam Young       1   21        California    \n",
       "3      Aimee Castaneda       1   22           Michigan   \n",
       "4  Alejandra Hernandez       0   20         Washington   \n",
       "\n",
       "   Do you eat Eggs/ Non-Veg?  What's your favourite beverage?  \\\n",
       "0                          1                                0   \n",
       "1                          1                                0   \n",
       "2                          1                                0   \n",
       "3                          0                                0   \n",
       "4                          1                                0   \n",
       "\n",
       "   What would you prefer?  What would you prefer?.1  What would you prefer?.2  \\\n",
       "0                       0                         0                         1   \n",
       "1                       0                         0                         0   \n",
       "2                       0                         1                         0   \n",
       "3                       1                         1                         0   \n",
       "4                       1                         0                         0   \n",
       "\n",
       "   What would you prefer?.3  Iowa  Michigan  Ohio  Texas  Washington  \n",
       "0                         1     1         0     0      0           0  \n",
       "1                         0     0         0     1      0           0  \n",
       "2                         1     0         0     0      0           0  \n",
       "3                         0     0         1     0      0           0  \n",
       "4                         0     0         0     0      0           1  "
      ]
     },
     "execution_count": 27,
     "metadata": {},
     "output_type": "execute_result"
    }
   ],
   "source": [
    "## After Merging let's see some data.\n",
    "data.head()"
   ]
  },
  {
   "cell_type": "code",
   "execution_count": null,
   "id": "48b3a4e0",
   "metadata": {},
   "outputs": [],
   "source": []
  },
  {
   "cell_type": "markdown",
   "id": "2752f5bd",
   "metadata": {},
   "source": [
    "Now, We don't need \"State Of Residence\" and \"Name\" Feature so we are going to drop this column from our dataset."
   ]
  },
  {
   "cell_type": "code",
   "execution_count": 28,
   "id": "2a2d3605",
   "metadata": {},
   "outputs": [],
   "source": [
    "data.drop(columns=['State of Residence','Name'],axis=1,inplace=True)"
   ]
  },
  {
   "cell_type": "markdown",
   "id": "e36be390",
   "metadata": {},
   "source": [
    "Now, Let's rename our target names into some useful and logical names."
   ]
  },
  {
   "cell_type": "code",
   "execution_count": 29,
   "id": "88c5fb60",
   "metadata": {},
   "outputs": [],
   "source": [
    "data.rename(columns={'What would you prefer?':'What would you prefer Hot Chocolate / Shakes'},inplace=True)\n",
    "data.rename(columns={'What would you prefer?.1':'What would you prefer Waffles / Pan Cakes'},inplace=True)\n",
    "data.rename(columns={'What would you prefer?.2':'What would you prefer Wraps / Sandwiches'},inplace=True)\n",
    "data.rename(columns={'What would you prefer?.3':'What would you prefer Falooda / Rabdi'},inplace=True)"
   ]
  },
  {
   "cell_type": "code",
   "execution_count": 30,
   "id": "6fd63f34",
   "metadata": {},
   "outputs": [
    {
     "data": {
      "text/html": [
       "<div>\n",
       "<style scoped>\n",
       "    .dataframe tbody tr th:only-of-type {\n",
       "        vertical-align: middle;\n",
       "    }\n",
       "\n",
       "    .dataframe tbody tr th {\n",
       "        vertical-align: top;\n",
       "    }\n",
       "\n",
       "    .dataframe thead th {\n",
       "        text-align: right;\n",
       "    }\n",
       "</style>\n",
       "<table border=\"1\" class=\"dataframe\">\n",
       "  <thead>\n",
       "    <tr style=\"text-align: right;\">\n",
       "      <th></th>\n",
       "      <th>Gender</th>\n",
       "      <th>Age</th>\n",
       "      <th>Do you eat Eggs/ Non-Veg?</th>\n",
       "      <th>What's your favourite beverage?</th>\n",
       "      <th>What would you prefer Hot Chocolate / Shakes</th>\n",
       "      <th>What would you prefer Waffles / Pan Cakes</th>\n",
       "      <th>What would you prefer Wraps / Sandwiches</th>\n",
       "      <th>What would you prefer Falooda / Rabdi</th>\n",
       "      <th>Iowa</th>\n",
       "      <th>Michigan</th>\n",
       "      <th>Ohio</th>\n",
       "      <th>Texas</th>\n",
       "      <th>Washington</th>\n",
       "    </tr>\n",
       "  </thead>\n",
       "  <tbody>\n",
       "    <tr>\n",
       "      <th>0</th>\n",
       "      <td>1</td>\n",
       "      <td>19</td>\n",
       "      <td>1</td>\n",
       "      <td>0</td>\n",
       "      <td>0</td>\n",
       "      <td>0</td>\n",
       "      <td>1</td>\n",
       "      <td>1</td>\n",
       "      <td>1</td>\n",
       "      <td>0</td>\n",
       "      <td>0</td>\n",
       "      <td>0</td>\n",
       "      <td>0</td>\n",
       "    </tr>\n",
       "    <tr>\n",
       "      <th>1</th>\n",
       "      <td>1</td>\n",
       "      <td>23</td>\n",
       "      <td>1</td>\n",
       "      <td>0</td>\n",
       "      <td>0</td>\n",
       "      <td>0</td>\n",
       "      <td>0</td>\n",
       "      <td>0</td>\n",
       "      <td>0</td>\n",
       "      <td>0</td>\n",
       "      <td>1</td>\n",
       "      <td>0</td>\n",
       "      <td>0</td>\n",
       "    </tr>\n",
       "    <tr>\n",
       "      <th>2</th>\n",
       "      <td>1</td>\n",
       "      <td>21</td>\n",
       "      <td>1</td>\n",
       "      <td>0</td>\n",
       "      <td>0</td>\n",
       "      <td>1</td>\n",
       "      <td>0</td>\n",
       "      <td>1</td>\n",
       "      <td>0</td>\n",
       "      <td>0</td>\n",
       "      <td>0</td>\n",
       "      <td>0</td>\n",
       "      <td>0</td>\n",
       "    </tr>\n",
       "    <tr>\n",
       "      <th>3</th>\n",
       "      <td>1</td>\n",
       "      <td>22</td>\n",
       "      <td>0</td>\n",
       "      <td>0</td>\n",
       "      <td>1</td>\n",
       "      <td>1</td>\n",
       "      <td>0</td>\n",
       "      <td>0</td>\n",
       "      <td>0</td>\n",
       "      <td>1</td>\n",
       "      <td>0</td>\n",
       "      <td>0</td>\n",
       "      <td>0</td>\n",
       "    </tr>\n",
       "    <tr>\n",
       "      <th>4</th>\n",
       "      <td>0</td>\n",
       "      <td>20</td>\n",
       "      <td>1</td>\n",
       "      <td>0</td>\n",
       "      <td>1</td>\n",
       "      <td>0</td>\n",
       "      <td>0</td>\n",
       "      <td>0</td>\n",
       "      <td>0</td>\n",
       "      <td>0</td>\n",
       "      <td>0</td>\n",
       "      <td>0</td>\n",
       "      <td>1</td>\n",
       "    </tr>\n",
       "  </tbody>\n",
       "</table>\n",
       "</div>"
      ],
      "text/plain": [
       "   Gender  Age  Do you eat Eggs/ Non-Veg?  What's your favourite beverage?  \\\n",
       "0       1   19                          1                                0   \n",
       "1       1   23                          1                                0   \n",
       "2       1   21                          1                                0   \n",
       "3       1   22                          0                                0   \n",
       "4       0   20                          1                                0   \n",
       "\n",
       "   What would you prefer Hot Chocolate / Shakes  \\\n",
       "0                                             0   \n",
       "1                                             0   \n",
       "2                                             0   \n",
       "3                                             1   \n",
       "4                                             1   \n",
       "\n",
       "   What would you prefer Waffles / Pan Cakes  \\\n",
       "0                                          0   \n",
       "1                                          0   \n",
       "2                                          1   \n",
       "3                                          1   \n",
       "4                                          0   \n",
       "\n",
       "   What would you prefer Wraps / Sandwiches  \\\n",
       "0                                         1   \n",
       "1                                         0   \n",
       "2                                         0   \n",
       "3                                         0   \n",
       "4                                         0   \n",
       "\n",
       "   What would you prefer Falooda / Rabdi  Iowa  Michigan  Ohio  Texas  \\\n",
       "0                                      1     1         0     0      0   \n",
       "1                                      0     0         0     1      0   \n",
       "2                                      1     0         0     0      0   \n",
       "3                                      0     0         1     0      0   \n",
       "4                                      0     0         0     0      0   \n",
       "\n",
       "   Washington  \n",
       "0           0  \n",
       "1           0  \n",
       "2           0  \n",
       "3           0  \n",
       "4           1  "
      ]
     },
     "execution_count": 30,
     "metadata": {},
     "output_type": "execute_result"
    }
   ],
   "source": [
    "## Now, Let's see head of data\n",
    "data.head()"
   ]
  },
  {
   "cell_type": "markdown",
   "id": "839c4b10",
   "metadata": {},
   "source": [
    "###### Now, Let's find out correlation between these datasets using graphs ."
   ]
  },
  {
   "cell_type": "code",
   "execution_count": 31,
   "id": "8536aab6",
   "metadata": {},
   "outputs": [
    {
     "data": {
      "text/plain": [
       "<AxesSubplot:>"
      ]
     },
     "execution_count": 31,
     "metadata": {},
     "output_type": "execute_result"
    },
    {
     "data": {
      "image/png": "[encoded data removed]",
      "text/plain": [
       "<Figure size 1080x720 with 1 Axes>"
      ]
     },
     "metadata": {},
     "output_type": "display_data"
    }
   ],
   "source": [
    "## Let's visualize using heatmap\n",
    "plt.figure(figsize=(15,10))\n",
    "sns.heatmap(data.corr(),cbar=False,annot=True)"
   ]
  },
  {
   "cell_type": "code",
   "execution_count": 32,
   "id": "d983be4b",
   "metadata": {},
   "outputs": [
    {
     "data": {
      "text/html": [
       "<div>\n",
       "<style scoped>\n",
       "    .dataframe tbody tr th:only-of-type {\n",
       "        vertical-align: middle;\n",
       "    }\n",
       "\n",
       "    .dataframe tbody tr th {\n",
       "        vertical-align: top;\n",
       "    }\n",
       "\n",
       "    .dataframe thead th {\n",
       "        text-align: right;\n",
       "    }\n",
       "</style>\n",
       "<table border=\"1\" class=\"dataframe\">\n",
       "  <thead>\n",
       "    <tr style=\"text-align: right;\">\n",
       "      <th></th>\n",
       "      <th>Gender</th>\n",
       "      <th>Age</th>\n",
       "      <th>Do you eat Eggs/ Non-Veg?</th>\n",
       "      <th>What's your favourite beverage?</th>\n",
       "      <th>What would you prefer Hot Chocolate / Shakes</th>\n",
       "      <th>What would you prefer Waffles / Pan Cakes</th>\n",
       "      <th>What would you prefer Wraps / Sandwiches</th>\n",
       "      <th>What would you prefer Falooda / Rabdi</th>\n",
       "      <th>Iowa</th>\n",
       "      <th>Michigan</th>\n",
       "      <th>Ohio</th>\n",
       "      <th>Texas</th>\n",
       "      <th>Washington</th>\n",
       "    </tr>\n",
       "  </thead>\n",
       "  <tbody>\n",
       "    <tr>\n",
       "      <th>Gender</th>\n",
       "      <td>1.000000</td>\n",
       "      <td>-0.036395</td>\n",
       "      <td>0.026958</td>\n",
       "      <td>-0.112193</td>\n",
       "      <td>-0.077893</td>\n",
       "      <td>0.142911</td>\n",
       "      <td>1.325825e-01</td>\n",
       "      <td>-0.056204</td>\n",
       "      <td>-0.037280</td>\n",
       "      <td>0.154598</td>\n",
       "      <td>-0.104276</td>\n",
       "      <td>-0.089577</td>\n",
       "      <td>-1.666667e-01</td>\n",
       "    </tr>\n",
       "    <tr>\n",
       "      <th>Age</th>\n",
       "      <td>-0.036395</td>\n",
       "      <td>1.000000</td>\n",
       "      <td>-0.002631</td>\n",
       "      <td>0.053531</td>\n",
       "      <td>0.047603</td>\n",
       "      <td>0.021353</td>\n",
       "      <td>-5.895073e-02</td>\n",
       "      <td>-0.049898</td>\n",
       "      <td>0.225757</td>\n",
       "      <td>-0.237394</td>\n",
       "      <td>0.115916</td>\n",
       "      <td>-0.135432</td>\n",
       "      <td>2.336856e-02</td>\n",
       "    </tr>\n",
       "    <tr>\n",
       "      <th>Do you eat Eggs/ Non-Veg?</th>\n",
       "      <td>0.026958</td>\n",
       "      <td>-0.002631</td>\n",
       "      <td>1.000000</td>\n",
       "      <td>-0.001105</td>\n",
       "      <td>-0.041792</td>\n",
       "      <td>-0.002402</td>\n",
       "      <td>8.101487e-02</td>\n",
       "      <td>0.083933</td>\n",
       "      <td>0.012743</td>\n",
       "      <td>-0.066534</td>\n",
       "      <td>-0.031749</td>\n",
       "      <td>0.045134</td>\n",
       "      <td>1.078328e-01</td>\n",
       "    </tr>\n",
       "    <tr>\n",
       "      <th>What's your favourite beverage?</th>\n",
       "      <td>-0.112193</td>\n",
       "      <td>0.053531</td>\n",
       "      <td>-0.001105</td>\n",
       "      <td>1.000000</td>\n",
       "      <td>0.040197</td>\n",
       "      <td>0.049315</td>\n",
       "      <td>7.248661e-02</td>\n",
       "      <td>-0.027173</td>\n",
       "      <td>0.058492</td>\n",
       "      <td>0.020546</td>\n",
       "      <td>-0.027164</td>\n",
       "      <td>-0.093029</td>\n",
       "      <td>5.239479e-02</td>\n",
       "    </tr>\n",
       "    <tr>\n",
       "      <th>What would you prefer Hot Chocolate / Shakes</th>\n",
       "      <td>-0.077893</td>\n",
       "      <td>0.047603</td>\n",
       "      <td>-0.041792</td>\n",
       "      <td>0.040197</td>\n",
       "      <td>1.000000</td>\n",
       "      <td>-0.014217</td>\n",
       "      <td>-6.448259e-02</td>\n",
       "      <td>-0.026104</td>\n",
       "      <td>0.036947</td>\n",
       "      <td>-0.072882</td>\n",
       "      <td>0.003836</td>\n",
       "      <td>0.017783</td>\n",
       "      <td>-2.026492e-02</td>\n",
       "    </tr>\n",
       "    <tr>\n",
       "      <th>What would you prefer Waffles / Pan Cakes</th>\n",
       "      <td>0.142911</td>\n",
       "      <td>0.021353</td>\n",
       "      <td>-0.002402</td>\n",
       "      <td>0.049315</td>\n",
       "      <td>-0.014217</td>\n",
       "      <td>1.000000</td>\n",
       "      <td>1.259882e-01</td>\n",
       "      <td>-0.050304</td>\n",
       "      <td>-0.173702</td>\n",
       "      <td>0.182980</td>\n",
       "      <td>0.034661</td>\n",
       "      <td>-0.064406</td>\n",
       "      <td>3.959426e-02</td>\n",
       "    </tr>\n",
       "    <tr>\n",
       "      <th>What would you prefer Wraps / Sandwiches</th>\n",
       "      <td>0.132583</td>\n",
       "      <td>-0.058951</td>\n",
       "      <td>0.081015</td>\n",
       "      <td>0.072487</td>\n",
       "      <td>-0.064483</td>\n",
       "      <td>0.125988</td>\n",
       "      <td>1.000000e+00</td>\n",
       "      <td>0.022182</td>\n",
       "      <td>-0.005968</td>\n",
       "      <td>0.011713</td>\n",
       "      <td>-0.029742</td>\n",
       "      <td>0.053811</td>\n",
       "      <td>-3.925231e-17</td>\n",
       "    </tr>\n",
       "    <tr>\n",
       "      <th>What would you prefer Falooda / Rabdi</th>\n",
       "      <td>-0.056204</td>\n",
       "      <td>-0.049898</td>\n",
       "      <td>0.083933</td>\n",
       "      <td>-0.027173</td>\n",
       "      <td>-0.026104</td>\n",
       "      <td>-0.050304</td>\n",
       "      <td>2.218187e-02</td>\n",
       "      <td>1.000000</td>\n",
       "      <td>0.104722</td>\n",
       "      <td>0.088919</td>\n",
       "      <td>-0.100113</td>\n",
       "      <td>0.040807</td>\n",
       "      <td>-2.875574e-02</td>\n",
       "    </tr>\n",
       "    <tr>\n",
       "      <th>Iowa</th>\n",
       "      <td>-0.037280</td>\n",
       "      <td>0.225757</td>\n",
       "      <td>0.012743</td>\n",
       "      <td>0.058492</td>\n",
       "      <td>0.036947</td>\n",
       "      <td>-0.173702</td>\n",
       "      <td>-5.968474e-03</td>\n",
       "      <td>0.104722</td>\n",
       "      <td>1.000000</td>\n",
       "      <td>-0.247327</td>\n",
       "      <td>-0.175027</td>\n",
       "      <td>-0.200251</td>\n",
       "      <td>-1.631868e-01</td>\n",
       "    </tr>\n",
       "    <tr>\n",
       "      <th>Michigan</th>\n",
       "      <td>0.154598</td>\n",
       "      <td>-0.237394</td>\n",
       "      <td>-0.066534</td>\n",
       "      <td>0.020546</td>\n",
       "      <td>-0.072882</td>\n",
       "      <td>0.182980</td>\n",
       "      <td>1.171254e-02</td>\n",
       "      <td>0.088919</td>\n",
       "      <td>-0.247327</td>\n",
       "      <td>1.000000</td>\n",
       "      <td>-0.180619</td>\n",
       "      <td>-0.206649</td>\n",
       "      <td>-1.684010e-01</td>\n",
       "    </tr>\n",
       "    <tr>\n",
       "      <th>Ohio</th>\n",
       "      <td>-0.104276</td>\n",
       "      <td>0.115916</td>\n",
       "      <td>-0.031749</td>\n",
       "      <td>-0.027164</td>\n",
       "      <td>0.003836</td>\n",
       "      <td>0.034661</td>\n",
       "      <td>-2.974163e-02</td>\n",
       "      <td>-0.100113</td>\n",
       "      <td>-0.175027</td>\n",
       "      <td>-0.180619</td>\n",
       "      <td>1.000000</td>\n",
       "      <td>-0.146240</td>\n",
       "      <td>-1.191729e-01</td>\n",
       "    </tr>\n",
       "    <tr>\n",
       "      <th>Texas</th>\n",
       "      <td>-0.089577</td>\n",
       "      <td>-0.135432</td>\n",
       "      <td>0.045134</td>\n",
       "      <td>-0.093029</td>\n",
       "      <td>0.017783</td>\n",
       "      <td>-0.064406</td>\n",
       "      <td>5.381139e-02</td>\n",
       "      <td>0.040807</td>\n",
       "      <td>-0.200251</td>\n",
       "      <td>-0.206649</td>\n",
       "      <td>-0.146240</td>\n",
       "      <td>1.000000</td>\n",
       "      <td>-1.363473e-01</td>\n",
       "    </tr>\n",
       "    <tr>\n",
       "      <th>Washington</th>\n",
       "      <td>-0.166667</td>\n",
       "      <td>0.023369</td>\n",
       "      <td>0.107833</td>\n",
       "      <td>0.052395</td>\n",
       "      <td>-0.020265</td>\n",
       "      <td>0.039594</td>\n",
       "      <td>-3.925231e-17</td>\n",
       "      <td>-0.028756</td>\n",
       "      <td>-0.163187</td>\n",
       "      <td>-0.168401</td>\n",
       "      <td>-0.119173</td>\n",
       "      <td>-0.136347</td>\n",
       "      <td>1.000000e+00</td>\n",
       "    </tr>\n",
       "  </tbody>\n",
       "</table>\n",
       "</div>"
      ],
      "text/plain": [
       "                                                Gender       Age  \\\n",
       "Gender                                        1.000000 -0.036395   \n",
       "Age                                          -0.036395  1.000000   \n",
       "Do you eat Eggs/ Non-Veg?                     0.026958 -0.002631   \n",
       "What's your favourite beverage?              -0.112193  0.053531   \n",
       "What would you prefer Hot Chocolate / Shakes -0.077893  0.047603   \n",
       "What would you prefer Waffles / Pan Cakes     0.142911  0.021353   \n",
       "What would you prefer Wraps / Sandwiches      0.132583 -0.058951   \n",
       "What would you prefer Falooda / Rabdi        -0.056204 -0.049898   \n",
       "Iowa                                         -0.037280  0.225757   \n",
       "Michigan                                      0.154598 -0.237394   \n",
       "Ohio                                         -0.104276  0.115916   \n",
       "Texas                                        -0.089577 -0.135432   \n",
       "Washington                                   -0.166667  0.023369   \n",
       "\n",
       "                                              Do you eat Eggs/ Non-Veg?  \\\n",
       "Gender                                                         0.026958   \n",
       "Age                                                           -0.002631   \n",
       "Do you eat Eggs/ Non-Veg?                                      1.000000   \n",
       "What's your favourite beverage?                               -0.001105   \n",
       "What would you prefer Hot Chocolate / Shakes                  -0.041792   \n",
       "What would you prefer Waffles / Pan Cakes                     -0.002402   \n",
       "What would you prefer Wraps / Sandwiches                       0.081015   \n",
       "What would you prefer Falooda / Rabdi                          0.083933   \n",
       "Iowa                                                           0.012743   \n",
       "Michigan                                                      -0.066534   \n",
       "Ohio                                                          -0.031749   \n",
       "Texas                                                          0.045134   \n",
       "Washington                                                     0.107833   \n",
       "\n",
       "                                              What's your favourite beverage?  \\\n",
       "Gender                                                              -0.112193   \n",
       "Age                                                                  0.053531   \n",
       "Do you eat Eggs/ Non-Veg?                                           -0.001105   \n",
       "What's your favourite beverage?                                      1.000000   \n",
       "What would you prefer Hot Chocolate / Shakes                         0.040197   \n",
       "What would you prefer Waffles / Pan Cakes                            0.049315   \n",
       "What would you prefer Wraps / Sandwiches                             0.072487   \n",
       "What would you prefer Falooda / Rabdi                               -0.027173   \n",
       "Iowa                                                                 0.058492   \n",
       "Michigan                                                             0.020546   \n",
       "Ohio                                                                -0.027164   \n",
       "Texas                                                               -0.093029   \n",
       "Washington                                                           0.052395   \n",
       "\n",
       "                                              What would you prefer Hot Chocolate / Shakes  \\\n",
       "Gender                                                                           -0.077893   \n",
       "Age                                                                               0.047603   \n",
       "Do you eat Eggs/ Non-Veg?                                                        -0.041792   \n",
       "What's your favourite beverage?                                                   0.040197   \n",
       "What would you prefer Hot Chocolate / Shakes                                      1.000000   \n",
       "What would you prefer Waffles / Pan Cakes                                        -0.014217   \n",
       "What would you prefer Wraps / Sandwiches                                         -0.064483   \n",
       "What would you prefer Falooda / Rabdi                                            -0.026104   \n",
       "Iowa                                                                              0.036947   \n",
       "Michigan                                                                         -0.072882   \n",
       "Ohio                                                                              0.003836   \n",
       "Texas                                                                             0.017783   \n",
       "Washington                                                                       -0.020265   \n",
       "\n",
       "                                              What would you prefer Waffles / Pan Cakes  \\\n",
       "Gender                                                                         0.142911   \n",
       "Age                                                                            0.021353   \n",
       "Do you eat Eggs/ Non-Veg?                                                     -0.002402   \n",
       "What's your favourite beverage?                                                0.049315   \n",
       "What would you prefer Hot Chocolate / Shakes                                  -0.014217   \n",
       "What would you prefer Waffles / Pan Cakes                                      1.000000   \n",
       "What would you prefer Wraps / Sandwiches                                       0.125988   \n",
       "What would you prefer Falooda / Rabdi                                         -0.050304   \n",
       "Iowa                                                                          -0.173702   \n",
       "Michigan                                                                       0.182980   \n",
       "Ohio                                                                           0.034661   \n",
       "Texas                                                                         -0.064406   \n",
       "Washington                                                                     0.039594   \n",
       "\n",
       "                                              What would you prefer Wraps / Sandwiches  \\\n",
       "Gender                                                                    1.325825e-01   \n",
       "Age                                                                      -5.895073e-02   \n",
       "Do you eat Eggs/ Non-Veg?                                                 8.101487e-02   \n",
       "What's your favourite beverage?                                           7.248661e-02   \n",
       "What would you prefer Hot Chocolate / Shakes                             -6.448259e-02   \n",
       "What would you prefer Waffles / Pan Cakes                                 1.259882e-01   \n",
       "What would you prefer Wraps / Sandwiches                                  1.000000e+00   \n",
       "What would you prefer Falooda / Rabdi                                     2.218187e-02   \n",
       "Iowa                                                                     -5.968474e-03   \n",
       "Michigan                                                                  1.171254e-02   \n",
       "Ohio                                                                     -2.974163e-02   \n",
       "Texas                                                                     5.381139e-02   \n",
       "Washington                                                               -3.925231e-17   \n",
       "\n",
       "                                              What would you prefer Falooda / Rabdi  \\\n",
       "Gender                                                                    -0.056204   \n",
       "Age                                                                       -0.049898   \n",
       "Do you eat Eggs/ Non-Veg?                                                  0.083933   \n",
       "What's your favourite beverage?                                           -0.027173   \n",
       "What would you prefer Hot Chocolate / Shakes                              -0.026104   \n",
       "What would you prefer Waffles / Pan Cakes                                 -0.050304   \n",
       "What would you prefer Wraps / Sandwiches                                   0.022182   \n",
       "What would you prefer Falooda / Rabdi                                      1.000000   \n",
       "Iowa                                                                       0.104722   \n",
       "Michigan                                                                   0.088919   \n",
       "Ohio                                                                      -0.100113   \n",
       "Texas                                                                      0.040807   \n",
       "Washington                                                                -0.028756   \n",
       "\n",
       "                                                  Iowa  Michigan      Ohio  \\\n",
       "Gender                                       -0.037280  0.154598 -0.104276   \n",
       "Age                                           0.225757 -0.237394  0.115916   \n",
       "Do you eat Eggs/ Non-Veg?                     0.012743 -0.066534 -0.031749   \n",
       "What's your favourite beverage?               0.058492  0.020546 -0.027164   \n",
       "What would you prefer Hot Chocolate / Shakes  0.036947 -0.072882  0.003836   \n",
       "What would you prefer Waffles / Pan Cakes    -0.173702  0.182980  0.034661   \n",
       "What would you prefer Wraps / Sandwiches     -0.005968  0.011713 -0.029742   \n",
       "What would you prefer Falooda / Rabdi         0.104722  0.088919 -0.100113   \n",
       "Iowa                                          1.000000 -0.247327 -0.175027   \n",
       "Michigan                                     -0.247327  1.000000 -0.180619   \n",
       "Ohio                                         -0.175027 -0.180619  1.000000   \n",
       "Texas                                        -0.200251 -0.206649 -0.146240   \n",
       "Washington                                   -0.163187 -0.168401 -0.119173   \n",
       "\n",
       "                                                 Texas    Washington  \n",
       "Gender                                       -0.089577 -1.666667e-01  \n",
       "Age                                          -0.135432  2.336856e-02  \n",
       "Do you eat Eggs/ Non-Veg?                     0.045134  1.078328e-01  \n",
       "What's your favourite beverage?              -0.093029  5.239479e-02  \n",
       "What would you prefer Hot Chocolate / Shakes  0.017783 -2.026492e-02  \n",
       "What would you prefer Waffles / Pan Cakes    -0.064406  3.959426e-02  \n",
       "What would you prefer Wraps / Sandwiches      0.053811 -3.925231e-17  \n",
       "What would you prefer Falooda / Rabdi         0.040807 -2.875574e-02  \n",
       "Iowa                                         -0.200251 -1.631868e-01  \n",
       "Michigan                                     -0.206649 -1.684010e-01  \n",
       "Ohio                                         -0.146240 -1.191729e-01  \n",
       "Texas                                         1.000000 -1.363473e-01  \n",
       "Washington                                   -0.136347  1.000000e+00  "
      ]
     },
     "execution_count": 32,
     "metadata": {},
     "output_type": "execute_result"
    }
   ],
   "source": [
    "## Let's correlate this data\n",
    "data.corr()"
   ]
  },
  {
   "cell_type": "markdown",
   "id": "bcfd1bfc",
   "metadata": {},
   "source": [
    "###### From the heatmap we conclude that States actually don't correlated with our datasets. So , I think we can drop those values."
   ]
  },
  {
   "cell_type": "code",
   "execution_count": 33,
   "id": "29ed45f3",
   "metadata": {},
   "outputs": [],
   "source": [
    "data.drop(['Iowa','Ohio','Texas','Washington','Michigan'],axis=1,inplace=True)"
   ]
  },
  {
   "cell_type": "code",
   "execution_count": 34,
   "id": "a65a279f",
   "metadata": {},
   "outputs": [
    {
     "data": {
      "text/html": [
       "<div>\n",
       "<style scoped>\n",
       "    .dataframe tbody tr th:only-of-type {\n",
       "        vertical-align: middle;\n",
       "    }\n",
       "\n",
       "    .dataframe tbody tr th {\n",
       "        vertical-align: top;\n",
       "    }\n",
       "\n",
       "    .dataframe thead th {\n",
       "        text-align: right;\n",
       "    }\n",
       "</style>\n",
       "<table border=\"1\" class=\"dataframe\">\n",
       "  <thead>\n",
       "    <tr style=\"text-align: right;\">\n",
       "      <th></th>\n",
       "      <th>Gender</th>\n",
       "      <th>Age</th>\n",
       "      <th>Do you eat Eggs/ Non-Veg?</th>\n",
       "      <th>What's your favourite beverage?</th>\n",
       "      <th>What would you prefer Hot Chocolate / Shakes</th>\n",
       "      <th>What would you prefer Waffles / Pan Cakes</th>\n",
       "      <th>What would you prefer Wraps / Sandwiches</th>\n",
       "      <th>What would you prefer Falooda / Rabdi</th>\n",
       "    </tr>\n",
       "  </thead>\n",
       "  <tbody>\n",
       "    <tr>\n",
       "      <th>0</th>\n",
       "      <td>1</td>\n",
       "      <td>19</td>\n",
       "      <td>1</td>\n",
       "      <td>0</td>\n",
       "      <td>0</td>\n",
       "      <td>0</td>\n",
       "      <td>1</td>\n",
       "      <td>1</td>\n",
       "    </tr>\n",
       "    <tr>\n",
       "      <th>1</th>\n",
       "      <td>1</td>\n",
       "      <td>23</td>\n",
       "      <td>1</td>\n",
       "      <td>0</td>\n",
       "      <td>0</td>\n",
       "      <td>0</td>\n",
       "      <td>0</td>\n",
       "      <td>0</td>\n",
       "    </tr>\n",
       "    <tr>\n",
       "      <th>2</th>\n",
       "      <td>1</td>\n",
       "      <td>21</td>\n",
       "      <td>1</td>\n",
       "      <td>0</td>\n",
       "      <td>0</td>\n",
       "      <td>1</td>\n",
       "      <td>0</td>\n",
       "      <td>1</td>\n",
       "    </tr>\n",
       "    <tr>\n",
       "      <th>3</th>\n",
       "      <td>1</td>\n",
       "      <td>22</td>\n",
       "      <td>0</td>\n",
       "      <td>0</td>\n",
       "      <td>1</td>\n",
       "      <td>1</td>\n",
       "      <td>0</td>\n",
       "      <td>0</td>\n",
       "    </tr>\n",
       "    <tr>\n",
       "      <th>4</th>\n",
       "      <td>0</td>\n",
       "      <td>20</td>\n",
       "      <td>1</td>\n",
       "      <td>0</td>\n",
       "      <td>1</td>\n",
       "      <td>0</td>\n",
       "      <td>0</td>\n",
       "      <td>0</td>\n",
       "    </tr>\n",
       "  </tbody>\n",
       "</table>\n",
       "</div>"
      ],
      "text/plain": [
       "   Gender  Age  Do you eat Eggs/ Non-Veg?  What's your favourite beverage?  \\\n",
       "0       1   19                          1                                0   \n",
       "1       1   23                          1                                0   \n",
       "2       1   21                          1                                0   \n",
       "3       1   22                          0                                0   \n",
       "4       0   20                          1                                0   \n",
       "\n",
       "   What would you prefer Hot Chocolate / Shakes  \\\n",
       "0                                             0   \n",
       "1                                             0   \n",
       "2                                             0   \n",
       "3                                             1   \n",
       "4                                             1   \n",
       "\n",
       "   What would you prefer Waffles / Pan Cakes  \\\n",
       "0                                          0   \n",
       "1                                          0   \n",
       "2                                          1   \n",
       "3                                          1   \n",
       "4                                          0   \n",
       "\n",
       "   What would you prefer Wraps / Sandwiches  \\\n",
       "0                                         1   \n",
       "1                                         0   \n",
       "2                                         0   \n",
       "3                                         0   \n",
       "4                                         0   \n",
       "\n",
       "   What would you prefer Falooda / Rabdi  \n",
       "0                                      1  \n",
       "1                                      0  \n",
       "2                                      1  \n",
       "3                                      0  \n",
       "4                                      0  "
      ]
     },
     "execution_count": 34,
     "metadata": {},
     "output_type": "execute_result"
    }
   ],
   "source": [
    "## Now, Let's see some data\n",
    "data.head()"
   ]
  },
  {
   "cell_type": "markdown",
   "id": "1b4f5e5c",
   "metadata": {},
   "source": [
    "# Feature Scaling"
   ]
  },
  {
   "cell_type": "markdown",
   "id": "e20b97bd",
   "metadata": {},
   "source": [
    "## Before going to Feature Scaling Let's know some information that we have total 6 target values so for this we have to predict 6 times using some Machine Learning Model. "
   ]
  },
  {
   "cell_type": "markdown",
   "id": "9e73f200",
   "metadata": {},
   "source": [
    "Now, For each target values we have to split our data using train test split"
   ]
  },
  {
   "cell_type": "code",
   "execution_count": 35,
   "id": "245c6a5b",
   "metadata": {},
   "outputs": [],
   "source": [
    "## Let's import libraries\n",
    "from sklearn.model_selection import train_test_split"
   ]
  },
  {
   "cell_type": "code",
   "execution_count": 36,
   "id": "6fba4ba8",
   "metadata": {},
   "outputs": [],
   "source": [
    "## Let's split our data for our firt target values.\n",
    "\n",
    "X1 = data.drop('Do you eat Eggs/ Non-Veg?',axis=1)\n",
    "Y1 = data['Do you eat Eggs/ Non-Veg?']"
   ]
  },
  {
   "cell_type": "code",
   "execution_count": 37,
   "id": "8854b5ca",
   "metadata": {},
   "outputs": [],
   "source": [
    "## Let's split our data for our Second target values.\n",
    "\n",
    "X2 = data.drop(\"What's your favourite beverage?\",axis=1)\n",
    "Y2 = data[\"What's your favourite beverage?\"]"
   ]
  },
  {
   "cell_type": "code",
   "execution_count": 38,
   "id": "babfaccc",
   "metadata": {},
   "outputs": [],
   "source": [
    "## Let's split our data for our third target values.\n",
    "\n",
    "X3 = data.drop('What would you prefer Hot Chocolate / Shakes',axis=1)\n",
    "Y3 = data['What would you prefer Hot Chocolate / Shakes']"
   ]
  },
  {
   "cell_type": "code",
   "execution_count": 39,
   "id": "e2d89024",
   "metadata": {},
   "outputs": [],
   "source": [
    "## Let's split our data for our fourth target values.\n",
    "\n",
    "X4 = data.drop('What would you prefer Waffles / Pan Cakes',axis=1)\n",
    "Y4 = data['What would you prefer Waffles / Pan Cakes']"
   ]
  },
  {
   "cell_type": "code",
   "execution_count": 40,
   "id": "e9abc3c2",
   "metadata": {},
   "outputs": [],
   "source": [
    "## Let's split our data for our fifth target values.\n",
    "\n",
    "X5 = data.drop('What would you prefer Wraps / Sandwiches',axis=1)\n",
    "Y5 = data['What would you prefer Wraps / Sandwiches']"
   ]
  },
  {
   "cell_type": "code",
   "execution_count": 41,
   "id": "02699669",
   "metadata": {},
   "outputs": [],
   "source": [
    "## Let's split our data for our Sixth target values.\n",
    "\n",
    "X6 = data.drop('What would you prefer Falooda / Rabdi',axis=1)\n",
    "Y6 = data['What would you prefer Falooda / Rabdi']"
   ]
  },
  {
   "cell_type": "markdown",
   "id": "925d00d4",
   "metadata": {},
   "source": [
    "###### Let's apply train_test_split to every 6 targets."
   ]
  },
  {
   "cell_type": "code",
   "execution_count": 42,
   "id": "a06c59ba",
   "metadata": {},
   "outputs": [],
   "source": [
    "x1_train,x1_test,y1_train,y1_test = train_test_split(X1,Y1,test_size=0.2,random_state=100)"
   ]
  },
  {
   "cell_type": "code",
   "execution_count": 43,
   "id": "6d71c600",
   "metadata": {},
   "outputs": [],
   "source": [
    "x2_train,x2_test,y2_train,y2_test = train_test_split(X2,Y2,test_size=0.2,random_state=100)"
   ]
  },
  {
   "cell_type": "code",
   "execution_count": 44,
   "id": "22016209",
   "metadata": {},
   "outputs": [],
   "source": [
    "x3_train,x3_test,y3_train,y3_test = train_test_split(X3,Y3,test_size=0.2,random_state=100)"
   ]
  },
  {
   "cell_type": "code",
   "execution_count": 45,
   "id": "bdf7a396",
   "metadata": {},
   "outputs": [],
   "source": [
    "x4_train,x4_test,y4_train,y4_test = train_test_split(X4,Y4,test_size=0.2,random_state=100)"
   ]
  },
  {
   "cell_type": "code",
   "execution_count": 46,
   "id": "dba01a67",
   "metadata": {},
   "outputs": [],
   "source": [
    "x5_train,x5_test,y5_train,y5_test = train_test_split(X5,Y5,test_size=0.2,random_state=100)"
   ]
  },
  {
   "cell_type": "code",
   "execution_count": 47,
   "id": "9331debd",
   "metadata": {},
   "outputs": [],
   "source": [
    "x6_train,x6_test,y6_train,y6_test = train_test_split(X6,Y6,test_size=0.2,random_state=100)"
   ]
  },
  {
   "cell_type": "markdown",
   "id": "487f6bbc",
   "metadata": {},
   "source": [
    "# Model Deployment"
   ]
  },
  {
   "cell_type": "markdown",
   "id": "0b312d1a",
   "metadata": {},
   "source": [
    "#### Now,We are building a pipeline and we are going to choose a Machine Learning Model. We will be using Logisctic Regression model because it will be using decision trees upto only 1 depth which gives us a better accuray for our model.We will be using MinMaxScaler for Feature Scaling. We are going to use PCA also upto 2 n components. "
   ]
  },
  {
   "cell_type": "code",
   "execution_count": 48,
   "id": "09765d3b",
   "metadata": {},
   "outputs": [],
   "source": [
    "from sklearn.pipeline import Pipeline\n",
    "from sklearn.metrics import ConfusionMatrixDisplay\n",
    "from sklearn.preprocessing import MinMaxScaler\n",
    "from sklearn.decomposition import PCA"
   ]
  },
  {
   "cell_type": "code",
   "execution_count": 49,
   "id": "96cb372a",
   "metadata": {},
   "outputs": [],
   "source": [
    "## Let's import Machine Learning models\n",
    "from sklearn.linear_model import LogisticRegression"
   ]
  },
  {
   "cell_type": "code",
   "execution_count": 50,
   "id": "e070cc09",
   "metadata": {},
   "outputs": [
    {
     "name": "stdout",
     "output_type": "stream",
     "text": [
      "[Pipeline] ............... (step 1 of 3) Processing pca, total=   0.0s\n",
      "[Pipeline] ...... (step 2 of 3) Processing MinMaxScaler, total=   0.0s\n",
      "[Pipeline]  (step 3 of 3) Processing LogisticRegression, total=   0.0s\n"
     ]
    }
   ],
   "source": [
    "## Now, Let's predict for LogisticRegression model for first target values.\n",
    "model = LogisticRegression()\n",
    "pipe = Pipeline([('pca', PCA(n_components = 2)), ('MinMaxScaler', MinMaxScaler()), ('LogisticRegression',model)], verbose = True)\n",
    "pipe.fit(x1_train,y1_train)\n",
    "y1_pred = pipe.predict(x1_test)"
   ]
  },
  {
   "cell_type": "code",
   "execution_count": 51,
   "id": "644341fb",
   "metadata": {},
   "outputs": [
    {
     "data": {
      "text/plain": [
       "<sklearn.metrics._plot.confusion_matrix.ConfusionMatrixDisplay at 0x1fe1f2b7d60>"
      ]
     },
     "execution_count": 51,
     "metadata": {},
     "output_type": "execute_result"
    },
    {
     "data": {
      "image/png": "[encoded data removed]",
      "text/plain": [
       "<Figure size 432x288 with 2 Axes>"
      ]
     },
     "metadata": {},
     "output_type": "display_data"
    }
   ],
   "source": [
    "## Now let's view the confusion matrix\n",
    "ConfusionMatrixDisplay.from_predictions(y1_test,y1_pred)"
   ]
  },
  {
   "cell_type": "code",
   "execution_count": 52,
   "id": "50b58fde",
   "metadata": {},
   "outputs": [
    {
     "name": "stdout",
     "output_type": "stream",
     "text": [
      "[Pipeline] ............... (step 1 of 3) Processing pca, total=   0.0s\n",
      "[Pipeline] ...... (step 2 of 3) Processing MinMaxScaler, total=   0.0s\n",
      "[Pipeline]  (step 3 of 3) Processing LogisticRegression, total=   0.0s\n"
     ]
    }
   ],
   "source": [
    "## Now, Let's predict for LogisticRegression model for Second target values.\n",
    "model = LogisticRegression()\n",
    "pipe = Pipeline([('pca', PCA(n_components = 2)), ('MinMaxScaler', MinMaxScaler()), ('LogisticRegression',model)], verbose = True)\n",
    "pipe.fit(x2_train,y2_train)\n",
    "y2_pred = pipe.predict(x2_test)"
   ]
  },
  {
   "cell_type": "code",
   "execution_count": 53,
   "id": "20c231f7",
   "metadata": {},
   "outputs": [
    {
     "data": {
      "text/plain": [
       "<sklearn.metrics._plot.confusion_matrix.ConfusionMatrixDisplay at 0x1fe1e9d6d90>"
      ]
     },
     "execution_count": 53,
     "metadata": {},
     "output_type": "execute_result"
    },
    {
     "data": {
      "image/png": "[encoded data removed]",
      "text/plain": [
       "<Figure size 432x288 with 2 Axes>"
      ]
     },
     "metadata": {},
     "output_type": "display_data"
    }
   ],
   "source": [
    "## Now let's view the confusion matrix\n",
    "ConfusionMatrixDisplay.from_predictions(y2_test,y2_pred)"
   ]
  },
  {
   "cell_type": "code",
   "execution_count": 54,
   "id": "aa65807c",
   "metadata": {},
   "outputs": [
    {
     "name": "stdout",
     "output_type": "stream",
     "text": [
      "[Pipeline] ............... (step 1 of 3) Processing pca, total=   0.0s\n",
      "[Pipeline] ...... (step 2 of 3) Processing MinMaxScaler, total=   0.0s\n",
      "[Pipeline]  (step 3 of 3) Processing LogisticRegression, total=   0.0s\n"
     ]
    }
   ],
   "source": [
    "## Now, Let's predict for LogisticRegression model for third target values.\n",
    "model = LogisticRegression()\n",
    "pipe = Pipeline([('pca', PCA(n_components = 2)), ('MinMaxScaler', MinMaxScaler()), ('LogisticRegression',model)], verbose = True)\n",
    "pipe.fit(x3_train,y3_train)\n",
    "y3_pred = pipe.predict(x3_test)"
   ]
  },
  {
   "cell_type": "code",
   "execution_count": 55,
   "id": "d76f7000",
   "metadata": {},
   "outputs": [
    {
     "data": {
      "text/plain": [
       "<sklearn.metrics._plot.confusion_matrix.ConfusionMatrixDisplay at 0x1fe1e920af0>"
      ]
     },
     "execution_count": 55,
     "metadata": {},
     "output_type": "execute_result"
    },
    {
     "data": {
      "image/png": "[encoded data removed]",
      "text/plain": [
       "<Figure size 432x288 with 2 Axes>"
      ]
     },
     "metadata": {},
     "output_type": "display_data"
    }
   ],
   "source": [
    "## Now let's view the confusion matrix\n",
    "ConfusionMatrixDisplay.from_predictions(y3_test,y3_pred)"
   ]
  },
  {
   "cell_type": "code",
   "execution_count": 56,
   "id": "e4da9b68",
   "metadata": {},
   "outputs": [
    {
     "name": "stdout",
     "output_type": "stream",
     "text": [
      "[Pipeline] ............... (step 1 of 3) Processing pca, total=   0.0s\n",
      "[Pipeline] ...... (step 2 of 3) Processing MinMaxScaler, total=   0.0s\n",
      "[Pipeline]  (step 3 of 3) Processing LogisticRegression, total=   0.0s\n"
     ]
    }
   ],
   "source": [
    "## Now, Let's predict for LogisticRegression model for Fourth target values.\n",
    "model = LogisticRegression()\n",
    "pipe = Pipeline([('pca', PCA(n_components = 2)), ('MinMaxScaler', MinMaxScaler()), ('LogisticRegression',model)], verbose = True)\n",
    "pipe.fit(x4_train,y4_train)\n",
    "y4_pred = pipe.predict(x4_test)"
   ]
  },
  {
   "cell_type": "code",
   "execution_count": 57,
   "id": "7b53aa33",
   "metadata": {},
   "outputs": [
    {
     "data": {
      "text/plain": [
       "<sklearn.metrics._plot.confusion_matrix.ConfusionMatrixDisplay at 0x1fe1f4418b0>"
      ]
     },
     "execution_count": 57,
     "metadata": {},
     "output_type": "execute_result"
    },
    {
     "data": {
      "image/png": "[encoded data removed]",
      "text/plain": [
       "<Figure size 432x288 with 2 Axes>"
      ]
     },
     "metadata": {},
     "output_type": "display_data"
    }
   ],
   "source": [
    "## Now let's view the confusion matrix\n",
    "ConfusionMatrixDisplay.from_predictions(y4_test,y4_pred)"
   ]
  },
  {
   "cell_type": "code",
   "execution_count": 58,
   "id": "02141ad1",
   "metadata": {},
   "outputs": [
    {
     "name": "stdout",
     "output_type": "stream",
     "text": [
      "[Pipeline] ............... (step 1 of 3) Processing pca, total=   0.0s\n",
      "[Pipeline] ...... (step 2 of 3) Processing MinMaxScaler, total=   0.0s\n",
      "[Pipeline]  (step 3 of 3) Processing LogisticRegression, total=   0.0s\n"
     ]
    }
   ],
   "source": [
    "## Now, Let's predict for LogisticRegression model for Fifth target values.\n",
    "model = LogisticRegression()\n",
    "pipe = Pipeline([('pca', PCA(n_components = 2)), ('MinMaxScaler', MinMaxScaler()), ('LogisticRegression',model)], verbose = True)\n",
    "pipe.fit(x5_train,y5_train)\n",
    "y5_pred = pipe.predict(x5_test)"
   ]
  },
  {
   "cell_type": "code",
   "execution_count": 59,
   "id": "0a463223",
   "metadata": {},
   "outputs": [
    {
     "data": {
      "text/plain": [
       "<sklearn.metrics._plot.confusion_matrix.ConfusionMatrixDisplay at 0x1fe1f579be0>"
      ]
     },
     "execution_count": 59,
     "metadata": {},
     "output_type": "execute_result"
    },
    {
     "data": {
      "image/png": "[encoded data removed]",
      "text/plain": [
       "<Figure size 432x288 with 2 Axes>"
      ]
     },
     "metadata": {},
     "output_type": "display_data"
    }
   ],
   "source": [
    "## Now let's view the confusion matrix\n",
    "ConfusionMatrixDisplay.from_predictions(y5_test,y5_pred)"
   ]
  },
  {
   "cell_type": "code",
   "execution_count": 60,
   "id": "4d65d65c",
   "metadata": {},
   "outputs": [
    {
     "name": "stdout",
     "output_type": "stream",
     "text": [
      "[Pipeline] ............... (step 1 of 3) Processing pca, total=   0.0s\n",
      "[Pipeline] ...... (step 2 of 3) Processing MinMaxScaler, total=   0.0s\n",
      "[Pipeline]  (step 3 of 3) Processing LogisticRegression, total=   0.0s\n"
     ]
    }
   ],
   "source": [
    "## Now, Let's predict for LogisticRegression model for Fifth target values.\n",
    "model = LogisticRegression()\n",
    "pipe = Pipeline([('pca', PCA(n_components = 2)), ('MinMaxScaler', MinMaxScaler()), ('LogisticRegression',model)], verbose = True)\n",
    "pipe.fit(x6_train,y6_train)\n",
    "y6_pred = pipe.predict(x6_test)"
   ]
  },
  {
   "cell_type": "code",
   "execution_count": 61,
   "id": "bb7527c5",
   "metadata": {},
   "outputs": [
    {
     "data": {
      "text/plain": [
       "<sklearn.metrics._plot.confusion_matrix.ConfusionMatrixDisplay at 0x1fe205f8730>"
      ]
     },
     "execution_count": 61,
     "metadata": {},
     "output_type": "execute_result"
    },
    {
     "data": {
      "image/png": "[encoded data removed]",
      "text/plain": [
       "<Figure size 432x288 with 2 Axes>"
      ]
     },
     "metadata": {},
     "output_type": "display_data"
    }
   ],
   "source": [
    "## Now let's view the confusion matrix\n",
    "ConfusionMatrixDisplay.from_predictions(y6_test,y6_pred)"
   ]
  },
  {
   "cell_type": "code",
   "execution_count": null,
   "id": "b3d80e95",
   "metadata": {},
   "outputs": [],
   "source": []
  },
  {
   "cell_type": "markdown",
   "id": "e44f35d1",
   "metadata": {},
   "source": [
    "# Conclusion"
   ]
  },
  {
   "cell_type": "markdown",
   "id": "e3980631",
   "metadata": {},
   "source": [
    "######  After Building Pipeline and using Logistic Regression Model we can say that from confusion matrix of every 6 category that our recommendation system have a moderate accuracy rate. It can be increased if we have large datasets. But In small datasets generally overfitting takes place."
   ]
  },
  {
   "cell_type": "code",
   "execution_count": null,
   "id": "63057a2b",
   "metadata": {},
   "outputs": [],
   "source": []
  }
 ],
 "metadata": {
  "kernelspec": {
   "display_name": "Python 3 (ipykernel)",
   "language": "python",
   "name": "python3"
  },
  "language_info": {
   "codemirror_mode": {
    "name": "ipython",
    "version": 3
   },
   "file_extension": ".py",
   "mimetype": "text/x-python",
   "name": "python",
   "nbconvert_exporter": "python",
   "pygments_lexer": "ipython3",
   "version": "3.9.12"
  }
 },
 "nbformat": 4,
 "nbformat_minor": 5
}
